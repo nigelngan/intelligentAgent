{
  "nbformat": 4,
  "nbformat_minor": 0,
  "metadata": {
    "colab": {
      "name": "Group Assignment: Trading Signals.ipynb",
      "provenance": [],
      "collapsed_sections": [],
      "toc_visible": true,
      "include_colab_link": true
    },
    "kernelspec": {
      "name": "python3",
      "display_name": "Python 3"
    }
  },
  "cells": [
    {
      "cell_type": "markdown",
      "metadata": {
        "id": "view-in-github",
        "colab_type": "text"
      },
      "source": [
        "<a href=\"https://colab.research.google.com/github/nigelngan/intelligentAgent/blob/master/Group_Assignment_Trading_Signals.ipynb\" target=\"_parent\"><img src=\"https://colab.research.google.com/assets/colab-badge.svg\" alt=\"Open In Colab\"/></a>"
      ]
    },
    {
      "cell_type": "markdown",
      "metadata": {
        "id": "XGGVldObs5Md"
      },
      "source": [
        "# Arbitrage Strategy"
      ]
    },
    {
      "cell_type": "code",
      "metadata": {
        "id": "DdJ3RnZ6RZVc",
        "colab": {
          "base_uri": "https://localhost:8080/"
        },
        "outputId": "f46344da-76bc-4999-d5db-b385f486bba6"
      },
      "source": [
        "!pip install ccxt"
      ],
      "execution_count": 38,
      "outputs": [
        {
          "output_type": "stream",
          "text": [
            "Requirement already satisfied: ccxt in /usr/local/lib/python3.6/dist-packages (1.42.15)\n",
            "Requirement already satisfied: aiohttp<3.8,>=3.7.2; python_version >= \"3.5.2\" in /usr/local/lib/python3.6/dist-packages (from ccxt) (3.7.3)\n",
            "Requirement already satisfied: certifi>=2018.1.18 in /usr/local/lib/python3.6/dist-packages (from ccxt) (2020.12.5)\n",
            "Requirement already satisfied: cryptography>=2.6.1 in /usr/local/lib/python3.6/dist-packages (from ccxt) (3.4.6)\n",
            "Requirement already satisfied: aiodns<2.1,>=1.1.1; python_version >= \"3.5.2\" in /usr/local/lib/python3.6/dist-packages (from ccxt) (2.0.0)\n",
            "Requirement already satisfied: requests>=2.18.4 in /usr/local/lib/python3.6/dist-packages (from ccxt) (2.23.0)\n",
            "Requirement already satisfied: setuptools>=38.5.1 in /usr/local/lib/python3.6/dist-packages (from ccxt) (53.0.0)\n",
            "Requirement already satisfied: yarl==1.1.0; python_version >= \"3.5.2\" in /usr/local/lib/python3.6/dist-packages (from ccxt) (1.1.0)\n",
            "Requirement already satisfied: idna-ssl>=1.0; python_version < \"3.7\" in /usr/local/lib/python3.6/dist-packages (from aiohttp<3.8,>=3.7.2; python_version >= \"3.5.2\"->ccxt) (1.1.0)\n",
            "Requirement already satisfied: chardet<4.0,>=2.0 in /usr/local/lib/python3.6/dist-packages (from aiohttp<3.8,>=3.7.2; python_version >= \"3.5.2\"->ccxt) (3.0.4)\n",
            "Requirement already satisfied: attrs>=17.3.0 in /usr/local/lib/python3.6/dist-packages (from aiohttp<3.8,>=3.7.2; python_version >= \"3.5.2\"->ccxt) (20.3.0)\n",
            "Requirement already satisfied: multidict<7.0,>=4.5 in /usr/local/lib/python3.6/dist-packages (from aiohttp<3.8,>=3.7.2; python_version >= \"3.5.2\"->ccxt) (5.1.0)\n",
            "Requirement already satisfied: async-timeout<4.0,>=3.0 in /usr/local/lib/python3.6/dist-packages (from aiohttp<3.8,>=3.7.2; python_version >= \"3.5.2\"->ccxt) (3.0.1)\n",
            "Requirement already satisfied: typing-extensions>=3.6.5 in /usr/local/lib/python3.6/dist-packages (from aiohttp<3.8,>=3.7.2; python_version >= \"3.5.2\"->ccxt) (3.7.4.3)\n",
            "Requirement already satisfied: cffi>=1.12 in /usr/local/lib/python3.6/dist-packages (from cryptography>=2.6.1->ccxt) (1.14.4)\n",
            "Requirement already satisfied: typing; python_version < \"3.7\" in /usr/local/lib/python3.6/dist-packages (from aiodns<2.1,>=1.1.1; python_version >= \"3.5.2\"->ccxt) (3.7.4.3)\n",
            "Requirement already satisfied: pycares>=3.0.0 in /usr/local/lib/python3.6/dist-packages (from aiodns<2.1,>=1.1.1; python_version >= \"3.5.2\"->ccxt) (3.1.1)\n",
            "Requirement already satisfied: urllib3!=1.25.0,!=1.25.1,<1.26,>=1.21.1 in /usr/local/lib/python3.6/dist-packages (from requests>=2.18.4->ccxt) (1.24.3)\n",
            "Requirement already satisfied: idna<3,>=2.5 in /usr/local/lib/python3.6/dist-packages (from requests>=2.18.4->ccxt) (2.10)\n",
            "Requirement already satisfied: pycparser in /usr/local/lib/python3.6/dist-packages (from cffi>=1.12->cryptography>=2.6.1->ccxt) (2.20)\n"
          ],
          "name": "stdout"
        }
      ]
    },
    {
      "cell_type": "code",
      "metadata": {
        "id": "BLX4XsQYRbjC"
      },
      "source": [
        "import time\r\n",
        "import ccxt\r\n",
        "import pandas as pd\r\n",
        "import matplotlib.pyplot as plt\r\n",
        "from datetime import datetime\r\n",
        "import pytz"
      ],
      "execution_count": 39,
      "outputs": []
    },
    {
      "cell_type": "code",
      "metadata": {
        "id": "hxcv0Ywashgd"
      },
      "source": [
        "# Establish Singapore timezone\n",
        "tz = pytz.timezone('Asia/Singapore')"
      ],
      "execution_count": 40,
      "outputs": []
    },
    {
      "cell_type": "markdown",
      "metadata": {
        "id": "r_uv2D5HVcIf"
      },
      "source": [
        "## ZIL/USDT"
      ]
    },
    {
      "cell_type": "markdown",
      "metadata": {
        "id": "NPnmXc3GVhPX"
      },
      "source": [
        "### Historical Analysis"
      ]
    },
    {
      "cell_type": "code",
      "metadata": {
        "id": "UwfT3aB7TNUV"
      },
      "source": [
        "# Insert historical analysis for ZIL/USDT here"
      ],
      "execution_count": 41,
      "outputs": []
    },
    {
      "cell_type": "markdown",
      "metadata": {
        "id": "goE01rgmVoy2"
      },
      "source": [
        "### Pulling Live Prices"
      ]
    },
    {
      "cell_type": "code",
      "metadata": {
        "id": "K3gKRSSXgzZd"
      },
      "source": [
        "# A quick search on trading view shows that ZIL/USDT trades on 4 exchanges\r\n",
        "# We extract the bid and ask prices separately and evaluate if an arbitrage can really be made\r\n",
        "\r\n",
        "# HitBTC\r\n",
        "def hitbtc_current_price():\r\n",
        "  hitbtc = ccxt.hitbtc()\r\n",
        "  zilusdt_hitbtc = hitbtc.fetch_ticker('ZIL/USDT')\r\n",
        "  zilusdt_hitbtc_bid = zilusdt_hitbtc['bid']\r\n",
        "  zilusdt_hitbtc_ask = zilusdt_hitbtc['ask']\r\n",
        "  return zilusdt_hitbtc_bid, zilusdt_hitbtc_ask\r\n",
        "\r\n",
        "# Binance\r\n",
        "def binance_current_price():\r\n",
        "  binance = ccxt.binance()\r\n",
        "  zilusdt_binance = binance.fetch_ticker('ZIL/USDT')\r\n",
        "  zilusdt_binance_bid = zilusdt_binance['bid']\r\n",
        "  zilusdt_binance_ask = zilusdt_binance['ask']\r\n",
        "  return zilusdt_binance_bid, zilusdt_binance_ask \r\n",
        "\r\n",
        "# OKEX\r\n",
        "def okex_current_price():\r\n",
        "  okex = ccxt.okex()\r\n",
        "  zilusdt_okex = okex.fetch_ticker('ZIL/USDT')\r\n",
        "  zilusdt_okex_bid = zilusdt_okex['bid']\r\n",
        "  zilusdt_okex_ask = zilusdt_okex['ask']\r\n",
        "  return zilusdt_okex_bid, zilusdt_okex_ask\r\n",
        "\r\n",
        "# HUOBI\r\n",
        "def huobi_current_price():\r\n",
        "  huobi = ccxt.huobipro()\r\n",
        "  zilusdt_huobi = huobi.fetch_ticker('ZIL/USDT')\r\n",
        "  zilusdt_huobi_bid = zilusdt_huobi['bid']\r\n",
        "  zilusdt_huobi_ask = zilusdt_huobi['ask']\r\n",
        "  return zilusdt_huobi_bid, zilusdt_huobi_ask "
      ],
      "execution_count": 42,
      "outputs": []
    },
    {
      "cell_type": "code",
      "metadata": {
        "id": "8BlskWUGI_Gi"
      },
      "source": [
        "# We also extract the fees of each exchange, using the highest tier to be conservative \r\n",
        "# Since they tend to be similar for the highest tier we assume fees are 0.1% for all exchanges\r\n",
        "# If the fees siginificantly differ for each exchange, we can consider incorporating that in our calculations\r\n",
        "\r\n",
        "# okex_fees = 0.1% https://www.okex.com/fees.html\r\n",
        "# binance_fees = 0.1% https://www.binance.com/en/support/articles/115000429332-Fee-Structure-on-Binance\r\n",
        "# hitbtc_fees = 0.09% https://hitbtc.com/fee-tier\r\n",
        "\r\n",
        "trading_fees = 0.001"
      ],
      "execution_count": 43,
      "outputs": []
    },
    {
      "cell_type": "code",
      "metadata": {
        "id": "_kIgeJkphvP4"
      },
      "source": [
        "# Extract the live prices from the different exchanges\r\n",
        "\r\n",
        "def live_price():\r\n",
        "  hitbtc_price = hitbtc_current_price()\r\n",
        "  binance_price = binance_current_price()\r\n",
        "  okex_price =  okex_current_price()\r\n",
        "  huobi_price = huobi_current_price()\r\n",
        "  return hitbtc_price, binance_price, okex_price, huobi_price"
      ],
      "execution_count": 44,
      "outputs": []
    },
    {
      "cell_type": "code",
      "metadata": {
        "colab": {
          "base_uri": "https://localhost:8080/"
        },
        "id": "6-ooW4-WqReF",
        "outputId": "c419a354-1142-4b38-a174-730e0d71d76b"
      },
      "source": [
        "live_price()"
      ],
      "execution_count": 49,
      "outputs": [
        {
          "output_type": "execute_result",
          "data": {
            "text/plain": [
              "((0.1361152, 0.1364335),\n",
              " (0.13597, 0.13609),\n",
              " (0.13609, 0.13635),\n",
              " (0.136033, 0.136183))"
            ]
          },
          "metadata": {
            "tags": []
          },
          "execution_count": 49
        }
      ]
    },
    {
      "cell_type": "code",
      "metadata": {
        "id": "J1vpUCaTiMC9"
      },
      "source": [
        "# Based on the extracted prices, we determine if there are opportunities for arbitrage\r\n",
        "\r\n",
        "def search_arbitrage():\r\n",
        "  values = live_price()\r\n",
        "  for prices in values:\r\n",
        "    asks_data.append(prices[1])\r\n",
        "    bids_data.append(prices[0])\r\n",
        "  if min(asks_data)*(1+trading_fees) < max(bids_data)*(1+trading_fees):\r\n",
        "    exchange_to_buy = asks_data.index(min(asks_data))\r\n",
        "    exchange_to_sell = bids_data.index(max(bids_data))\r\n",
        "    profit = max(bids_data)*(1+trading_fees) - min(asks_data)*(1+trading_fees) \r\n",
        "    print('Buy ZIL/USDT at ' + exchanges[exchange_to_buy] + ' for '+ str(min(asks_data)) + ' and sell ZIL/USDT from ' + exchanges[exchange_to_sell] + ' at ' + str(max(bids_data)))\r\n",
        "    print('You get a profit % of approximately ' + str(profit/min(asks_data)*100) + '%')\r\n",
        "    print('current time is '+str(datetime.now(tz))) \r\n",
        "  else:\r\n",
        "    print('Do nothing')\r\n",
        "    print('current time is '+str(datetime.now(tz)))\r\n"
      ],
      "execution_count": 56,
      "outputs": []
    },
    {
      "cell_type": "code",
      "metadata": {
        "id": "66exxRhkFZo-",
        "colab": {
          "base_uri": "https://localhost:8080/",
          "height": 300
        },
        "outputId": "dcb1fbba-2b6a-4699-d790-c96ecb961b64"
      },
      "source": [
        "while True:\r\n",
        "  exchanges = ['HitBTC', 'Binance', 'OKEX','Huobi'] # Maintain this list based on the exchanges chosen to allow the code to extract which exchange to buy from \r\n",
        "  asks_data =[] # Create an empty list to collect all the ask prices\r\n",
        "  bids_data =[] # Create an empty list to collect all the bid prices\r\n",
        "  search_arbitrage()\r\n",
        "  time.sleep(10)"
      ],
      "execution_count": 57,
      "outputs": [
        {
          "output_type": "stream",
          "text": [
            "Buy ZIL/USDT at HitBTC for 0.1366124 and sell ZIL/USDT from Binance at 0.1368\n",
            "You get a profit % of approximately 0.1374601427103372%\n",
            "current time is 2021-02-21 17:02:01.533846+08:00\n",
            "Buy ZIL/USDT at HitBTC for 0.1365125 and sell ZIL/USDT from Binance at 0.13678\n",
            "You get a profit % of approximately 0.19614870433109638%\n",
            "current time is 2021-02-21 17:02:15.862573+08:00\n"
          ],
          "name": "stdout"
        },
        {
          "output_type": "error",
          "ename": "KeyboardInterrupt",
          "evalue": "ignored",
          "traceback": [
            "\u001b[0;31m---------------------------------------------------------------------------\u001b[0m",
            "\u001b[0;31mKeyboardInterrupt\u001b[0m                         Traceback (most recent call last)",
            "\u001b[0;32m<ipython-input-57-c8e4ca611bfa>\u001b[0m in \u001b[0;36m<module>\u001b[0;34m()\u001b[0m\n\u001b[1;32m      4\u001b[0m   \u001b[0mbids_data\u001b[0m \u001b[0;34m=\u001b[0m\u001b[0;34m[\u001b[0m\u001b[0;34m]\u001b[0m \u001b[0;31m# Create an empty list to collect all the bid prices\u001b[0m\u001b[0;34m\u001b[0m\u001b[0;34m\u001b[0m\u001b[0m\n\u001b[1;32m      5\u001b[0m   \u001b[0msearch_arbitrage\u001b[0m\u001b[0;34m(\u001b[0m\u001b[0;34m)\u001b[0m\u001b[0;34m\u001b[0m\u001b[0;34m\u001b[0m\u001b[0m\n\u001b[0;32m----> 6\u001b[0;31m   \u001b[0mtime\u001b[0m\u001b[0;34m.\u001b[0m\u001b[0msleep\u001b[0m\u001b[0;34m(\u001b[0m\u001b[0;36m10\u001b[0m\u001b[0;34m)\u001b[0m\u001b[0;34m\u001b[0m\u001b[0;34m\u001b[0m\u001b[0m\n\u001b[0m",
            "\u001b[0;31mKeyboardInterrupt\u001b[0m: "
          ]
        }
      ]
    },
    {
      "cell_type": "markdown",
      "metadata": {
        "id": "pzJ6oruPTDzL"
      },
      "source": [
        "### Conclusion for arbitrage strategy for ZIL/USDT \r\n",
        "On paper, there are arbitrage profits to be made. However considering the strategy mainly consisted of buying from HitBTC and selling on the other exchanges, we would need to constantly send over ZIL from HitBTC to the respective exchange to sell.  \r\n",
        "\r\n",
        "This incurs withdrawal fees of about 216 ZIL as well per transfer (https://withdrawalfees.com/exchanges/hitbtc). Assuming a generous 1% profit each time, this means we need to purchase 21,600 ZIL at a minimum each time to keep funding our operation to breakeven. Considering that purchases from HitBTC and withdrawals to the new exchange to be sold will also have some latency due to the inherent nature of the blockchain and the huge volume required for the strategy to work, the profit margins are razor thin and risks are not worth the effort to get the <1% profits. \r\n",
        "\r\n",
        "To make the strategy work, the overall effect is that you would need a lot of liquidity in ZIL and USDT in the respective accounts to maintain the operations and would be better off just maintaining a momentum based strategy instead."
      ]
    },
    {
      "cell_type": "markdown",
      "metadata": {
        "id": "4V6pUkyhVkQa"
      },
      "source": [
        "## ETH/USD"
      ]
    },
    {
      "cell_type": "code",
      "metadata": {
        "id": "b8CyyG1LVnu4"
      },
      "source": [
        "# We can conclude that ETH is way more liquid and even more not worth exploring compared to ZIL or do a copy paste of the above analysis just to confirm"
      ],
      "execution_count": null,
      "outputs": []
    },
    {
      "cell_type": "markdown",
      "metadata": {
        "id": "2dyjwMTAwwII"
      },
      "source": [
        "# Momentum Strategy"
      ]
    },
    {
      "cell_type": "markdown",
      "metadata": {
        "id": "gU-KuYrQliP5"
      },
      "source": [
        "Momentum investing is a trading strategy in which investors buy securities that are rising and sell them when they look to have peaked.\r\n",
        "\r\n",
        "\r\n",
        "The goal is to work with volatility by finding buying opportunities in short-term uptrends and then sell when the securities start to lose momentum.\r\n",
        "\r\n",
        "\r\n",
        "Then, the investor takes the cash and looks for the next short-term uptrend, or buying opportunity, and repeats the process.\r\n",
        "\r\n",
        "\r\n",
        "Skilled traders understand when to enter into a position, how long to hold it for, and when to exit; they can also react to short-term, news-driven spikes or selloffs.\r\n",
        "\r\n",
        "\r\n",
        "Risks of momentum trading include moving into a position too early, closing out too late, and getting distracted and missing key trends and technical deviations."
      ]
    },
    {
      "cell_type": "markdown",
      "metadata": {
        "id": "ubCQXplTol-e"
      },
      "source": [
        "The rules can be broken down into five elements:\r\n",
        "\r\n",
        "* Selection, or what equities you choose (This has already been chosen to be ZIL or ETH)\r\n",
        "* Risk revolve around timing in opening and closing the trades\r\n",
        "* Entry timing means getting into the trade early\r\n",
        "* Position management couples wide spreads and your holding period\r\n",
        "* Exit points require consistent charting"
      ]
    },
    {
      "cell_type": "code",
      "metadata": {
        "id": "E5ialncjjlBe"
      },
      "source": [
        "# Import packages\r\n",
        "import numpy as np \r\n",
        "import pandas as pd\r\n",
        "import matplotlib.pyplot as plt\r\n",
        "import datetime\r\n",
        "import pandas_datareader.data as web"
      ],
      "execution_count": null,
      "outputs": []
    },
    {
      "cell_type": "markdown",
      "metadata": {
        "id": "VOh0tLxIWbiF"
      },
      "source": [
        "## ETH USD"
      ]
    },
    {
      "cell_type": "markdown",
      "metadata": {
        "id": "M_X0cgNHWrJW"
      },
      "source": [
        "We first look at the efficacy of momentum indicators for ETH since ethereum has been around longer in the market compared to ZIL."
      ]
    },
    {
      "cell_type": "markdown",
      "metadata": {
        "id": "HT5AE0lZVQI1"
      },
      "source": [
        "### Historical Analysis"
      ]
    },
    {
      "cell_type": "markdown",
      "metadata": {
        "id": "PST7nbq4oo8d"
      },
      "source": [
        "#### Moving Average"
      ]
    },
    {
      "cell_type": "markdown",
      "metadata": {
        "id": "ntOP3CrIqVew"
      },
      "source": [
        "A simple moving average (SMA) is a calculation that takes the arithmetic mean of a given set of prices over the specific number of days in the past; for example, over the previous 15, 30, 100, or 200 days. The reason for calculating the moving average of a stock is to help smooth out the price data by creating a constantly updated average price. An MA with a short time frame will react much quicker to price changes than an MA with a long look back period. Since volatility and risk is high associated with cryptocurrencies, we will use a shorter time frame."
      ]
    },
    {
      "cell_type": "code",
      "metadata": {
        "id": "KXsTyf_sj_vO"
      },
      "source": [
        "# What date ranges should we use? A: You should have at least 1000 time periods with the maximum being days between data points\r\n",
        "# Because we're seeing a similar cryptocurrency bullrun in 2021 as 2018\r\n",
        "# We want to explore the data to see if there are possible trends and similarties we can capitalize on\r\n",
        "# We extract data from 2015 to plot the actual simple moving averages but are only concerned about looking at data from 2017 onwards\r\n",
        "\r\n",
        "# Define start and end date\r\n",
        "start = datetime.datetime(2015, 1, 1) \r\n",
        "end = datetime.datetime(2020, 12, 31)\r\n",
        "\r\n",
        "# Extract the closing price datas\r\n",
        "df = web.DataReader(['ETH-USD'], 'yahoo', start = start, end = end)['Close']\r\n",
        "df.columns = {'Close Price'}\r\n",
        "df.head()"
      ],
      "execution_count": null,
      "outputs": []
    },
    {
      "cell_type": "code",
      "metadata": {
        "id": "NSi9hzMAlfs-"
      },
      "source": [
        "# Plot graph of price from 2017 onwards\r\n",
        "df['Close Price'].plot(figsize = (15, 8))\r\n",
        "plt.grid()\r\n",
        "plt.ylabel(\"USD\")\r\n",
        "plt.show()"
      ],
      "execution_count": null,
      "outputs": []
    },
    {
      "cell_type": "code",
      "metadata": {
        "id": "Ig5DOR56l-m7"
      },
      "source": [
        "# Create 200 days simple moving average column\r\n",
        "df['20_SMA'] = df['Close Price'].rolling(window = 20, min_periods = 1).mean()\r\n",
        "# Create 50 days simple moving average column\r\n",
        "df['50_SMA'] = df['Close Price'].rolling(window = 50, min_periods = 1).mean()\r\n",
        "# Display first few rows\r\n",
        "df.head()"
      ],
      "execution_count": null,
      "outputs": []
    },
    {
      "cell_type": "code",
      "metadata": {
        "id": "Pf2Vx6-vmV1V"
      },
      "source": [
        "# When the short term SMA exceeds the long term SMA (known as a Golden Cross), it signals buying pressure from the market and we should look to buy\r\n",
        "# When the long term SMA exceeds the short term SMA (known as a Death Cross), it signals selling pressure from the market and we should look to sell\r\n",
        "# We add indicators into the data to show when these indicators occurs\r\n",
        "\r\n",
        "df['Signal'] = 0.0\r\n",
        "df['Signal'] = np.where(df['50_SMA'] < df['20_SMA'], 1.0, 0.0)\r\n",
        "\r\n",
        "df['Position'] = df['Signal'].diff()\r\n",
        "# display first few rows\r\n",
        "df.head(250)"
      ],
      "execution_count": null,
      "outputs": []
    },
    {
      "cell_type": "code",
      "metadata": {
        "id": "y5Z4AZq2maPi"
      },
      "source": [
        "#Signals graph\r\n",
        "plt.figure(figsize = (20,10))\r\n",
        "# plot close price, short-term and long-term moving averages \r\n",
        "df['Close Price'].plot(color = 'k', label= 'Close Price') \r\n",
        "df['20_SMA'].plot(color = 'b',label = '20-day SMA') \r\n",
        "df['50_SMA'].plot(color = 'g', label = '50-day SMA')\r\n",
        "# plot ‘buy’ signals\r\n",
        "plt.plot(df[df['Position'] == 1].index, \r\n",
        "         df['20_SMA'][df['Position'] == 1], \r\n",
        "         '^', markersize = 15, color = 'g', label = 'buy')\r\n",
        "# plot ‘sell’ signals\r\n",
        "plt.plot(df[df['Position'] == -1].index, \r\n",
        "         df['20_SMA'][df['Position'] == -1], \r\n",
        "         'v', markersize = 15, color = 'r', label = 'sell')\r\n",
        "plt.ylabel('USD', fontsize = 15 )\r\n",
        "plt.xlabel('Date', fontsize = 15 )\r\n",
        "plt.title('Ethereum-Strategy', fontsize = 20)\r\n",
        "plt.legend()\r\n",
        "plt.grid()\r\n",
        "plt.show()"
      ],
      "execution_count": null,
      "outputs": []
    },
    {
      "cell_type": "markdown",
      "metadata": {
        "id": "A_OIHrZYNhhM"
      },
      "source": [
        "Moving averages work quite well in strong trending conditions but poorly in choppy or ranging conditions. As we can see in the indicators above when markets move sideways, some of the signals can do with some additional refinement. Adjusting the time frame can remedy this problem temporarily, although at some point, these issues are likely to occur regardless of the time frame chosen for the moving average(s). Hence we will make use of other complimentary indicators to make confirmations of trades we want to do.\r\n",
        "\r\n",
        "* Crossover is considered more significant when accompanied by high trading volume (OBV indicator)"
      ]
    },
    {
      "cell_type": "markdown",
      "metadata": {
        "id": "BsSNpTL9sHSH"
      },
      "source": [
        "#### MACD"
      ]
    },
    {
      "cell_type": "markdown",
      "metadata": {
        "id": "FBKdZja8sJXa"
      },
      "source": [
        "#### RSI"
      ]
    },
    {
      "cell_type": "markdown",
      "metadata": {
        "id": "-nIHTZbVsKN_"
      },
      "source": [
        "#### OBV"
      ]
    },
    {
      "cell_type": "markdown",
      "metadata": {
        "id": "0Y1zYuO0VYud"
      },
      "source": [
        "### Pulling Live Prices"
      ]
    },
    {
      "cell_type": "markdown",
      "metadata": {
        "id": "d69B2e9hVcDE"
      },
      "source": [
        "### Conclusion for momentum strategy for ETH/USD"
      ]
    },
    {
      "cell_type": "markdown",
      "metadata": {
        "id": "N6Bjc3vFWku3"
      },
      "source": [
        "## ZIL USD"
      ]
    },
    {
      "cell_type": "code",
      "metadata": {
        "id": "cDfHts2wWnCc"
      },
      "source": [
        "# Rinse and repeat from Ethereum analysis"
      ],
      "execution_count": null,
      "outputs": []
    },
    {
      "cell_type": "markdown",
      "metadata": {
        "id": "JG3ELlPPW9JU"
      },
      "source": [
        "# Overall Returns"
      ]
    },
    {
      "cell_type": "markdown",
      "metadata": {
        "id": "ZApzhI6eYA5G"
      },
      "source": [
        "## Risk Management"
      ]
    },
    {
      "cell_type": "markdown",
      "metadata": {
        "id": "pmbuEv-QYYPB"
      },
      "source": [
        "We should aim for a risk:reward ratio of 1:3 and not have more than 1% of capital risked per trade. \r\n",
        "* Meaning we aim to earn 3 dollars for every 1 dollar risked and aim to take profit at this amount\r\n",
        "* If we start with 100 dollars, every trade should lose only 1 dollar maximum before we trigger the stop loss"
      ]
    },
    {
      "cell_type": "markdown",
      "metadata": {
        "id": "5oynduNYYKC-"
      },
      "source": [
        "### Stop Loss"
      ]
    },
    {
      "cell_type": "markdown",
      "metadata": {
        "id": "xhwngcE-YMGv"
      },
      "source": [
        "### Take Profit"
      ]
    },
    {
      "cell_type": "markdown",
      "metadata": {
        "id": "RUvzxjS-YSVN"
      },
      "source": [
        "## Overall Calculation after Risk Management"
      ]
    },
    {
      "cell_type": "code",
      "metadata": {
        "id": "E2TWMaKVXA4M"
      },
      "source": [
        "# After deciding on strategy we come up with overall calculations for historical returns"
      ],
      "execution_count": null,
      "outputs": []
    }
  ]
}